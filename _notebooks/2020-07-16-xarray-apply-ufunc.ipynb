{
 "cells": [
  {
   "cell_type": "markdown",
   "metadata": {},
   "source": [
    "# \"When to use xarray.apply_ufunc\"\n",
    "> Leverage any numpy computation while preserving labeled dimensions and coordinates\n",
    "\n",
    "- toc: true \n",
    "- author: Oriol Abril\n",
    "- badges: true\n",
    "- categories: [xarray, numba]\n",
    "- image: images/nb/loo_pit_bias.png"
   ]
  },
  {
   "cell_type": "markdown",
   "metadata": {},
   "source": [
    "## About ufuncs"
   ]
  },
  {
   "cell_type": "markdown",
   "metadata": {},
   "source": [
    "## Using apply_ufunc\n",
    "\n",
    "It is difficult to get familiar with `xarray.apply_ufunc` it allows a really wide range of possibilities and it is not always clear how to make the most out of it. In this case, the error is due to `input_core_dims` and `output_core_dims`. I'll first extend their docs emphasizing on what I believe has caused the confusion and then provide a couple of solutions. Their docs are:"
   ]
  },
  {
   "cell_type": "markdown",
   "metadata": {},
   "source": [
    "### input_core_dims \n",
    "\n",
    "> List of the same length as args giving the list of core dimensions on each input argument that should not be broadcast. By default, we assume there are no core dimensions on any input arguments.\n",
    ">\n",
    "> For example, input_core_dims=[[], ['time']] indicates that all dimensions on the first argument and all dimensions other than ‘time’ on the second argument should be broadcast.\n",
    ">\n",
    "> Core dimensions are automatically moved to the last axes of input variables before applying func, which facilitates using NumPy style generalized ufuncs [2].\n",
    "\n",
    "It takes care of 2 important and related aspects of the computation. First, it defines the dimensions to be broadcast, this is particularly important because the shape of the output is assumed to be the same as the shape defined by these broadcasted dimensions (when this is not the case, `output_core_dims` must be used). Secondly, the `input_core_dims` are moved to the end. Below there are two examples:\n",
    "\n",
    "We can apply a function that does not modify the shape without any extra argument to `apply_ufunc`:"
   ]
  },
  {
   "cell_type": "code",
   "execution_count": null,
   "metadata": {},
   "outputs": [],
   "source": [
    "xr.apply_ufunc(lambda x: x**2, ds)"
   ]
  },
  {
   "cell_type": "markdown",
   "metadata": {},
   "source": [
    "To calculate the mean along `lon` dimension for instance, we reduce one of the dimensions, therefore, the output will have one dimension less than the input: we must pass `lon` as an `input_core_dim`:"
   ]
  },
  {
   "cell_type": "code",
   "execution_count": null,
   "metadata": {},
   "outputs": [],
   "source": [
    "xr.apply_ufunc(lambda x: x.mean(axis=-1), ds, input_core_dims=[[\"lon\"]])"
   ]
  },
  {
   "cell_type": "markdown",
   "metadata": {},
   "source": [
    "Note that we are doing the mean on `axis=-1` even though `lon` is the first dimension because it will be moved to the end as it is an `input_core_dims`. We could therefore calculate the mean along `lat` dim using `input_core_dims=[[\"lon\"]]`.\n",
    "\n",
    "Note also the format of `input_core_dims`, it _must_ be a list of lists: _List of the same length as args giving the list of core dimensions_. A tuple of tuples (or any sequence) is also valid, however, note that with tuples the 1 element case it is `((\"lon\",),)` not `((\"lon\"))`."
   ]
  },
  {
   "cell_type": "markdown",
   "metadata": {},
   "source": [
    "### output_core_dims\n",
    "\n",
    "> List of the same length as the number of output arguments from func, giving the list of core dimensions on each output that were not broadcast on the inputs. By default, we assume that func outputs exactly one array, with axes corresponding to each broadcast dimension.\n",
    ">\n",
    "> Core dimensions are assumed to appear as the last dimensions of each output in the provided order.\n",
    "\n",
    "Here again, `output_core_dims` is a list of lists. It must be used when there are multiple outputs (that is, func returns a tuple) or when the output has extra dimensions in addition to the broadcasted dimensions. Obviously, if there are multiple outputs with extra dims, it must be used too. We'll use the two possible solutions as examples.\n",
    "\n",
    "## Solution 1\n",
    "Use the function posted in the question. This function returns a tuple, therefore we need to use `output_core_dims` even though the shape of the arrays is not modified. As there are actually no extra dims, we'll pass an empty list per output:\n",
    "\n",
    "```\n",
    "xr.apply_ufunc(\n",
    "    f,\n",
    "    ds,\n",
    "    output_core_dims= [[] for _ in range(4)], \n",
    ")\n",
    "```\n",
    "This will return a tuple of DataArrays, its output would be exactly the same as `f(ds)`. \n",
    "\n",
    "## Solution 2\n",
    "We'll now modify the function to output a single array, stacking all 4 outputs in the tuple. Note that we have to make sure that this new dimension is added at the end of the array:\n",
    "\n",
    "```\n",
    "def f2(x):\n",
    "    return np.stack((x, x**2, x**3, x**4), axis=-1)\n",
    "\n",
    "xr.apply_ufunc(\n",
    "    f2,\n",
    "    ds,\n",
    "    output_core_dims= [[\"predictions\"]], \n",
    ")\n",
    "# Output\n",
    "<xarray.DataArray (lon: 10, lat: 10, time: 30, predictions: 4)>\n",
    "array([[[[ 2.49011374e+00,  6.20066642e+00,  1.54403646e+01,\n",
    "           ...,\n",
    "           4.71259686e+00]]]])\n",
    "Coordinates:\n",
    "  * lon      (lon) int64 50 51 52 53 54 55 56 57 58 59\n",
    "  * lat      (lat) int64 10 11 12 13 14 15 16 17 18 19\n",
    "  * time     (time) int64 10 11 12 13 14 15 16 17 18 ... 32 33 34 35 36 37 38 39\n",
    "Dimensions without coordinates: predictions\n",
    "```\n",
    "We have now passed `predictions` as output core dim which makes the output have `predictions` as a new dimension in addition to the original 3. Here the output is not equivalent to `f2(ds)` (it returns a numpy array) anymore because thanks to using `apply_ufunc` we have been able to perform several functions and stacking without loosing the labels."
   ]
  },
  {
   "cell_type": "code",
   "execution_count": null,
   "metadata": {},
   "outputs": [],
   "source": []
  },
  {
   "cell_type": "code",
   "execution_count": null,
   "metadata": {},
   "outputs": [],
   "source": []
  },
  {
   "cell_type": "code",
   "execution_count": null,
   "metadata": {},
   "outputs": [],
   "source": []
  },
  {
   "cell_type": "markdown",
   "metadata": {},
   "source": [
    "## What if we don't have a ufunc?"
   ]
  },
  {
   "cell_type": "markdown",
   "metadata": {},
   "source": [
    "### Numba"
   ]
  },
  {
   "cell_type": "markdown",
   "metadata": {},
   "source": [
    "### Custom vectorization"
   ]
  },
  {
   "cell_type": "code",
   "execution_count": null,
   "metadata": {},
   "outputs": [],
   "source": []
  }
 ],
 "metadata": {
  "kernelspec": {
   "display_name": "Python 3",
   "language": "python",
   "name": "python3"
  },
  "language_info": {
   "codemirror_mode": {
    "name": "ipython",
    "version": 3
   },
   "file_extension": ".py",
   "mimetype": "text/x-python",
   "name": "python",
   "nbconvert_exporter": "python",
   "pygments_lexer": "ipython3",
   "version": "3.6.9"
  }
 },
 "nbformat": 4,
 "nbformat_minor": 4
}
